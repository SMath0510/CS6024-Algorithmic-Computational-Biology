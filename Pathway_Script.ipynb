{
 "cells": [
  {
   "cell_type": "code",
   "execution_count": 25,
   "id": "30df9593-18a4-4a76-b76d-4b5f04ded35d",
   "metadata": {},
   "outputs": [
    {
     "name": "stderr",
     "output_type": "stream",
     "text": [
      "/home/ayon_013/anaconda3/lib/python3.11/site-packages/openpyxl/styles/stylesheet.py:226: UserWarning: Workbook contains no default style, apply openpyxl's default\n",
      "  warn(\"Workbook contains no default style, apply openpyxl's default\")\n",
      "/home/ayon_013/anaconda3/lib/python3.11/site-packages/openpyxl/styles/stylesheet.py:226: UserWarning: Workbook contains no default style, apply openpyxl's default\n",
      "  warn(\"Workbook contains no default style, apply openpyxl's default\")\n"
     ]
    }
   ],
   "source": [
    "import pandas as pd\n",
    "import requests\n",
    "from bs4 import BeautifulSoup\n"
   ]
  },
  {
   "cell_type": "code",
   "execution_count": null,
   "id": "ad813ebc",
   "metadata": {},
   "outputs": [],
   "source": [
    "df_1 = pd.read_excel(\"database/idmapping_2024_04_27.xlsx\")\n",
    "df_1 = df_1.rename(columns={\"From\": \"UNIPROTID\", \"To\": \"HSAID\"})\n",
    "\n",
    "df_2 = pd.read_excel(\"database/UNIPROTID_to_geneID.xlsx\")\n",
    "df_2 = df_2.rename(columns={\"From\": \"UNIPROTID\", \"To\": \"geneID\"})"
   ]
  },
  {
   "cell_type": "code",
   "execution_count": 26,
   "id": "d687c40e-32f8-4858-8bfd-29992f382f78",
   "metadata": {},
   "outputs": [
    {
     "name": "stdout",
     "output_type": "stream",
     "text": [
      "     UNIPROTID       HSAID  geneID\n",
      "0  VPS45_HUMAN   hsa:11311   11311\n",
      "1  RABL3_HUMAN  hsa:285282  285282\n",
      "2   SPOP_HUMAN    hsa:8405    8405\n",
      "3  PF21A_HUMAN   hsa:51317   51317\n",
      "4   RS3A_HUMAN    hsa:6189    6189\n"
     ]
    }
   ],
   "source": [
    "merged_df = pd.merge(df_1, df_2, how='inner', on='UNIPROTID')\n",
    "print(merged_df.head())"
   ]
  },
  {
   "cell_type": "code",
   "execution_count": 38,
   "id": "1520e70b-d537-4c6f-947b-2f60af98df8d",
   "metadata": {},
   "outputs": [
    {
     "name": "stdout",
     "output_type": "stream",
     "text": [
      "hsa:367\n",
      "Pathway ID: hsa04144\n",
      "Pathway Name: Endocytosis\n"
     ]
    }
   ],
   "source": [
    "def get_pathway_info(uniprot_id, merged_df):\n",
    "    hsa_id = merged_df.loc[merged_df['UNIPROTID'] == uniprot_id, 'HSAID'].values[0]\n",
    "    print(hsa_id)\n",
    "    response = requests.get(url)\n",
    "    soup = BeautifulSoup(response.content, 'html.parser')\n",
    "    pathway_table = soup.find('th', string='Pathway').find_parent('tr')\n",
    "    pathway_entry = pathway_table.find('td').text.strip().split()\n",
    "    pathway_id = pathway_entry[0]\n",
    "    pathway_name = pathway_entry[1]\n",
    "    return pathway_id, pathway_name\n"
   ]
  },
  {
   "cell_type": "code",
   "execution_count": null,
   "id": "4bfefc9a",
   "metadata": {},
   "outputs": [],
   "source": [
    "\n",
    "uniprot_id = \"ANDR_HUMAN\"\n",
    "\n",
    "pathway_id, pathway_name = get_pathway_info(uniprot_id, merged_df)\n",
    "print(\"Pathway ID:\", pathway_id)\n",
    "print(\"Pathway Name:\", pathway_name)"
   ]
  }
 ],
 "metadata": {
  "kernelspec": {
   "display_name": "Python 3 (ipykernel)",
   "language": "python",
   "name": "python3"
  },
  "language_info": {
   "codemirror_mode": {
    "name": "ipython",
    "version": 3
   },
   "file_extension": ".py",
   "mimetype": "text/x-python",
   "name": "python",
   "nbconvert_exporter": "python",
   "pygments_lexer": "ipython3",
   "version": "3.11.7"
  }
 },
 "nbformat": 4,
 "nbformat_minor": 5
}
